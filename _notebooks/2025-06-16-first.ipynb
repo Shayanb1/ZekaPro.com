{
 "cells": [
  {
   "cell_type": "markdown",
   "metadata": {},
   "source": [
    "---\n",
    "comments: false\n",
    "layout: page\n",
    "title: CSSE 2 Final Articulation\n",
    "description: Final assignment and reflection for CSSE 2\n",
    "author: Shayan Bhatti\n",
    "permalink: /csse2-final/\n",
    "---"
   ]
  },
  {
   "cell_type": "markdown",
   "metadata": {},
   "source": [
    "Hi, I am Shayan"
   ]
  }
 ],
 "metadata": {
  "language_info": {
   "name": "python"
  }
 },
 "nbformat": 4,
 "nbformat_minor": 2
}
